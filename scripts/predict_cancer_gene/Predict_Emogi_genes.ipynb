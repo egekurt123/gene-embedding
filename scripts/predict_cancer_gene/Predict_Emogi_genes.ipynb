{
 "cells": [
  {
   "cell_type": "code",
   "execution_count": null,
   "id": "5e0757f4-78b7-4366-b879-c463fdeb9756",
   "metadata": {
    "tags": []
   },
   "outputs": [],
   "source": [
    "import pandas as pd\n",
    "import numpy as np\n",
    "from sklearn.ensemble import RandomForestClassifier\n",
    "from sklearn.ensemble import HistGradientBoostingClassifier\n",
    "\n",
    "from sklearn.model_selection import StratifiedKFold"
   ]
  },
  {
   "cell_type": "code",
   "execution_count": null,
   "id": "c51d9618-09fc-45db-9be5-0c1823cdcdfe",
   "metadata": {},
   "outputs": [],
   "source": [
    "project_dir = \"...path_to_project_dir\""
   ]
  },
  {
   "cell_type": "code",
   "execution_count": null,
   "id": "de959a68-4d63-4616-a9af-02c402a4e1cc",
   "metadata": {
    "tags": []
   },
   "outputs": [],
   "source": [
    "emogi_pred = pd.read_csv(project_dir + 'input_data/cancer_eval/emogi_predictions2.tsv', sep = '\\t')"
   ]
  },
  {
   "cell_type": "code",
   "execution_count": null,
   "id": "0f2dbf7e-3fba-48ab-95ed-a567f9120445",
   "metadata": {
    "tags": []
   },
   "outputs": [],
   "source": [
    "# read emogi train test sets\n",
    "train_test = pd.read_csv(project_dir + 'input_data/cancer_eval/emogi_train_test.tsv', sep = '\\t')\n",
    "train_test"
   ]
  },
  {
   "cell_type": "code",
   "execution_count": null,
   "id": "47d9a00b-1ca1-4f90-9ced-9c0c6622b0e1",
   "metadata": {
    "tags": []
   },
   "outputs": [],
   "source": [
    "emogi_pred"
   ]
  },
  {
   "cell_type": "code",
   "execution_count": null,
   "id": "c4142abe-339a-4529-ac33-b11dc6c722c2",
   "metadata": {
    "tags": []
   },
   "outputs": [],
   "source": [
    "emogi_pred.gene_id.unique().shape"
   ]
  },
  {
   "cell_type": "code",
   "execution_count": null,
   "id": "b34ae291-8e62-4ed8-a2f5-b4b4403c92f8",
   "metadata": {
    "tags": []
   },
   "outputs": [],
   "source": [
    "train_test = train_test.merge(emogi_pred, left_on = 'gene_id', right_on = 'gene_id', how = 'left').drop_duplicates()"
   ]
  },
  {
   "cell_type": "code",
   "execution_count": null,
   "id": "eb9e2253-a1f7-441a-a26e-b36129754508",
   "metadata": {
    "tags": []
   },
   "outputs": [],
   "source": [
    "folder = project_dir + 'embedding/combination/'\n",
    "emb = pd.read_csv(folder + 'dtf_gtex_depMap_portT5_lunar-snowflake-239_3787637_embedding.tsv',\n",
    "                   sep = '\\t').set_index('gene_id')"
   ]
  },
  {
   "cell_type": "code",
   "execution_count": null,
   "id": "7efe7523-c774-43a2-b14d-a595e6c367e4",
   "metadata": {
    "tags": []
   },
   "outputs": [],
   "source": [
    "emb = pd.read_csv(folder + 'combined_STRING.tsv',\n",
    "                   sep = '\\t').set_index('gene_id')"
   ]
  },
  {
   "cell_type": "code",
   "execution_count": null,
   "id": "e08b497d-a0b2-4c4c-97e9-51c92a5fffb5",
   "metadata": {
    "tags": []
   },
   "outputs": [],
   "source": [
    "emb = pd.read_csv(folder + 'combined_STRING_EXP.tsv',\n",
    "                   sep = '\\t').set_index('gene_id')"
   ]
  },
  {
   "cell_type": "code",
   "execution_count": null,
   "id": "1c1e967b-42c2-4386-847e-f98b49cd289b",
   "metadata": {
    "tags": []
   },
   "outputs": [],
   "source": [
    "df = train_test.merge(emb, on = 'gene_id')"
   ]
  },
  {
   "cell_type": "code",
   "execution_count": null,
   "id": "d13a840a-4dcc-4272-a71e-1323b67b3474",
   "metadata": {
    "tags": []
   },
   "outputs": [],
   "source": [
    "df.query(\"dataset == 'train'\")"
   ]
  },
  {
   "cell_type": "code",
   "execution_count": null,
   "id": "442cb748-31c0-4853-9a51-a998fe536058",
   "metadata": {
    "tags": []
   },
   "outputs": [],
   "source": [
    "#kf = StratifiedKFold(n_splits=5, shuffle=True, random_state = 1234)\n",
    "\n",
    "pred = []\n",
    "\n",
    "for method in [\"score_only\", \"and_emb\", \"emb_only\"]:\n",
    "\n",
    "\n",
    "        ## copy p val only in case features is pval\n",
    "        if method == 'score_only':\n",
    "            score = df.query(\"dataset == 'test'\")['pred']\n",
    "\n",
    "        ## otherwise train gradient boosting tree.\n",
    "        else:\n",
    "            #boost = HistGradientBoostingClassifier(learning_rate = 0.014 , max_iter = max_iter, max_depth = 4)\n",
    "\n",
    "            boost = HistGradientBoostingClassifier()\n",
    "\n",
    "            features_to_drop = [\"gene_id\", \"mask\", \"y\", \"dataset\", \"label\"]\n",
    "            if method == 'emb_only':\n",
    "                features_to_drop = features_to_drop + [\"pred\"]\n",
    "\n",
    "            boost.fit(df.query(\"dataset == 'train'\").drop(features_to_drop, axis=1), df.query(\"dataset == 'train'\").y)\n",
    "            score = boost.predict_proba(df.query(\"dataset == 'test'\").drop(features_to_drop, axis=1))[:,1]\n",
    "\n",
    "        pred.append(\n",
    "            pd.DataFrame({\n",
    "                \"gene_id\": df.query(\"dataset == 'test'\")[\"gene_id\"],\n",
    "                \"pred\": score,\n",
    "                \"label\": df.query(\"dataset == 'test'\")[\"label\"],\n",
    "                \"original_score\": df.query(\"dataset == 'test'\")[\"pred\"],\n",
    "                \"method\": method, \n",
    "            })\n",
    "        )\n",
    "\n",
    "\n",
    "pred = pd.concat(pred)\n",
    "# pred.to_csv(snakemake.output['pred'], sep = '\\t', index = False)"
   ]
  },
  {
   "cell_type": "code",
   "execution_count": null,
   "id": "94d8130f-ae2c-40e8-8f53-e1b3672e7612",
   "metadata": {
    "tags": []
   },
   "outputs": [],
   "source": [
    "pred"
   ]
  },
  {
   "cell_type": "code",
   "execution_count": null,
   "id": "50110fc1-fd9f-4d6b-848f-f1c46cdc066b",
   "metadata": {
    "tags": []
   },
   "outputs": [],
   "source": [
    "pred.to_csv(project_dir + 'processed_data/emogi_pred/emogi_test_set.tsv', sep = '\\t')"
   ]
  },
  {
   "cell_type": "code",
   "execution_count": null,
   "id": "7bf6ceb0-1c12-4f35-bbf0-a037f0260c8a",
   "metadata": {
    "tags": []
   },
   "outputs": [],
   "source": [
    "pred.to_csv(project_dir + 'processed_data/emogi_pred/emogi_STRING_test_set.tsv', sep = '\\t')"
   ]
  },
  {
   "cell_type": "code",
   "execution_count": null,
   "id": "7a430cf1-7818-44be-b05f-27541d1fb7fb",
   "metadata": {
    "tags": []
   },
   "outputs": [],
   "source": [
    "pred.to_csv(project_dir + 'processed_data/emogi_pred/emogi_STRING_EXP_test_set.tsv', sep = '\\t')"
   ]
  }
 ],
 "metadata": {
  "kernelspec": {
   "display_name": "Python [conda env:anaconda-brechtmann2022]",
   "language": "python",
   "name": "conda-env-anaconda-brechtmann2022-py"
  },
  "language_info": {
   "codemirror_mode": {
    "name": "ipython",
    "version": 3
   },
   "file_extension": ".py",
   "mimetype": "text/x-python",
   "name": "python",
   "nbconvert_exporter": "python",
   "pygments_lexer": "ipython3",
   "version": "3.10.4"
  }
 },
 "nbformat": 4,
 "nbformat_minor": 5
}
